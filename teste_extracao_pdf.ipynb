{
 "cells": [
  {
   "cell_type": "markdown",
   "metadata": {},
   "source": [
    "## Ideal para extração de texto sem mapear regiões específicas"
   ]
  },
  {
   "cell_type": "code",
   "execution_count": null,
   "metadata": {},
   "outputs": [
    {
     "name": "stdout",
     "output_type": "stream",
     "text": [
      "PyPDF2 ->\n",
      "Nome da empresa: GUARARAPES CONFECÇÕES SA\n",
      "CNPJ: 08.402.943/0001-52\n"
     ]
    }
   ],
   "source": [
    "import re\n",
    "from PyPDF2 import PdfReader\n",
    "\n",
    "# Lê o PDF\n",
    "reader = PdfReader(\"./data/004669000101011.pdf\")\n",
    "texto = \"\"\n",
    "for page in reader.pages:\n",
    "    texto += page.extract_text()\n",
    "\n",
    "# Expressões regulares (aqui é como vc vai conseguir mapear as regiões do texto que precisaa extrair)\n",
    "nome_match = re.search(r\"Nome:\\s*(.+?)\\s+CPF/CNPJ:\", texto)\n",
    "cnpj_match = re.search(r\"CPF/CNPJ:\\s*([\\d./-]+)\", texto)\n",
    "\n",
    "# Resultado\n",
    "nome = nome_match.group(1).strip() if nome_match else \"Nome não encontrado\"\n",
    "cnpj = cnpj_match.group(1).strip() if cnpj_match else \"CNPJ não encontrado\"\n",
    "\n",
    "print(\"PyPDF2 ->\")\n",
    "print(f\"Nome da empresa: {nome}\")\n",
    "print(f\"CNPJ: {cnpj}\")\n"
   ]
  },
  {
   "cell_type": "markdown",
   "metadata": {},
   "source": [
    "## Ideal para extrações em que precisa mapear regiões do texto"
   ]
  },
  {
   "cell_type": "code",
   "execution_count": 8,
   "metadata": {},
   "outputs": [
    {
     "name": "stderr",
     "output_type": "stream",
     "text": [
      "CropBox missing from /Page, defaulting to MediaBox\n"
     ]
    },
    {
     "name": "stderr",
     "output_type": "stream",
     "text": [
      "CropBox missing from /Page, defaulting to MediaBox\n"
     ]
    },
    {
     "name": "stdout",
     "output_type": "stream",
     "text": [
      "pdfplumber ->\n",
      "Nome da empresa: GUARARAPES CONFECÇÕES SA\n",
      "CNPJ: 08.402.943/0001-52\n"
     ]
    }
   ],
   "source": [
    "import re\n",
    "import pdfplumber\n",
    "\n",
    "# Lê o PDF\n",
    "with pdfplumber.open(\"./data/004669000101011.pdf\") as pdf:\n",
    "    texto = \"\"\n",
    "    for page in pdf.pages:\n",
    "        texto += page.extract_text()\n",
    "\n",
    "# Expressões regulares\n",
    "nome_match = re.search(r\"Nome:\\s*(.+?)\\s+CPF/CNPJ:\", texto)\n",
    "cnpj_match = re.search(r\"CPF/CNPJ:\\s*([\\d./-]+)\", texto)\n",
    "\n",
    "# Resultado\n",
    "nome = nome_match.group(1).strip() if nome_match else \"Nome não encontrado\"\n",
    "cnpj = cnpj_match.group(1).strip() if cnpj_match else \"CNPJ não encontrado\"\n",
    "\n",
    "print(\"pdfplumber ->\")\n",
    "print(f\"Nome da empresa: {nome}\")\n",
    "print(f\"CNPJ: {cnpj}\")\n"
   ]
  }
 ],
 "metadata": {
  "kernelspec": {
   "display_name": "Python 3",
   "language": "python",
   "name": "python3"
  },
  "language_info": {
   "codemirror_mode": {
    "name": "ipython",
    "version": 3
   },
   "file_extension": ".py",
   "mimetype": "text/x-python",
   "name": "python",
   "nbconvert_exporter": "python",
   "pygments_lexer": "ipython3",
   "version": "3.9.13"
  }
 },
 "nbformat": 4,
 "nbformat_minor": 2
}
